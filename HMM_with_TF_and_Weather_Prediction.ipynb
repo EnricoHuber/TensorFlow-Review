{
  "nbformat": 4,
  "nbformat_minor": 0,
  "metadata": {
    "colab": {
      "name": "HMM with TF and Weather Prediction.ipynb",
      "provenance": [],
      "authorship_tag": "ABX9TyNKgmvZvfuXBDGoEeJ4woSn",
      "include_colab_link": true
    },
    "kernelspec": {
      "name": "python3",
      "display_name": "Python 3"
    },
    "language_info": {
      "name": "python"
    }
  },
  "cells": [
    {
      "cell_type": "markdown",
      "metadata": {
        "id": "view-in-github",
        "colab_type": "text"
      },
      "source": [
        "<a href=\"https://colab.research.google.com/github/EnricoHuber/TensorFlow-Review/blob/main/HMM_with_TF_and_Weather_Prediction.ipynb\" target=\"_parent\"><img src=\"https://colab.research.google.com/assets/colab-badge.svg\" alt=\"Open In Colab\"/></a>"
      ]
    },
    {
      "cell_type": "markdown",
      "metadata": {
        "id": "3oWTFrtT7SGz"
      },
      "source": [
        "We are going to use https://www.tensorflow.org/probability/api_docs/python/tfp/distributions/HiddenMarkovModel with the same example"
      ]
    },
    {
      "cell_type": "code",
      "metadata": {
        "id": "cfNUzAp03URE"
      },
      "source": [
        "%tensorflow_version 2.x"
      ],
      "execution_count": null,
      "outputs": []
    },
    {
      "cell_type": "code",
      "metadata": {
        "id": "B4kNQAF85lEm"
      },
      "source": [
        "import tensorflow_probability as tfp\n",
        "import tensorflow as tf"
      ],
      "execution_count": null,
      "outputs": []
    },
    {
      "cell_type": "code",
      "metadata": {
        "id": "Uf1njR1g5oAd"
      },
      "source": [
        "tfd = tfp.distributions\n",
        "initial_distribution = tfd.Categorical(probs=[0.8, 0.2])\n",
        "transition_distribution = tfd.Categorical(probs=[[0.7, 0.3],\n",
        "                                                    [0.2, 0.8]])\n",
        "observation_distribution = tfd.Normal(loc=[0., 15.], scale=[5., 10.])"
      ],
      "execution_count": null,
      "outputs": []
    },
    {
      "cell_type": "code",
      "metadata": {
        "id": "ZvykUlUz7s_b"
      },
      "source": [
        "model = tfd.HiddenMarkovModel(\n",
        "    initial_distribution=initial_distribution,\n",
        "    transition_distribution=transition_distribution,\n",
        "    observation_distribution=observation_distribution,\n",
        "    num_steps=7)"
      ],
      "execution_count": null,
      "outputs": []
    },
    {
      "cell_type": "code",
      "metadata": {
        "colab": {
          "base_uri": "https://localhost:8080/"
        },
        "id": "_h2ZSKd28AUu",
        "outputId": "901b247e-15d4-4001-8018-a6568258a6ad"
      },
      "source": [
        "model.mean()  # shape [7], elements approach 9.0\n",
        "\n",
        "# The log pdf of a week of temperature 0 is:\n",
        "\n",
        "model.log_prob(tf.zeros(shape=[7]))"
      ],
      "execution_count": null,
      "outputs": [
        {
          "output_type": "stream",
          "text": [
            "/usr/local/lib/python3.7/dist-packages/tensorflow_probability/python/distributions/hidden_markov_model.py:498: UserWarning: HiddenMarkovModel.log_prob in TFP versions < 0.12.0 had a bug in which the transition model was applied prior to the initial step. This bug has been fixed. You may observe a slight change in behavior.\n",
            "  'HiddenMarkovModel.log_prob in TFP versions < 0.12.0 had a bug in '\n"
          ],
          "name": "stderr"
        },
        {
          "output_type": "execute_result",
          "data": {
            "text/plain": [
              "<tf.Tensor: shape=(), dtype=float32, numpy=-19.855635>"
            ]
          },
          "metadata": {
            "tags": []
          },
          "execution_count": 18
        }
      ]
    }
  ]
}