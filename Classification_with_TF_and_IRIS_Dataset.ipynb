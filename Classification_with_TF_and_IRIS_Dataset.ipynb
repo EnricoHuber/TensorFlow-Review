{
  "nbformat": 4,
  "nbformat_minor": 0,
  "metadata": {
    "colab": {
      "name": "Classification with TF and IRIS Dataset.ipynb",
      "provenance": [],
      "authorship_tag": "ABX9TyMDh31Qx9lfuca9rIAphyNO",
      "include_colab_link": true
    },
    "kernelspec": {
      "name": "python3",
      "display_name": "Python 3"
    },
    "language_info": {
      "name": "python"
    }
  },
  "cells": [
    {
      "cell_type": "markdown",
      "metadata": {
        "id": "view-in-github",
        "colab_type": "text"
      },
      "source": [
        "<a href=\"https://colab.research.google.com/github/EnricoHuber/TensorFlow-Review/blob/main/Classification_with_TF_and_IRIS_Dataset.ipynb\" target=\"_parent\"><img src=\"https://colab.research.google.com/assets/colab-badge.svg\" alt=\"Open In Colab\"/></a>"
      ]
    },
    {
      "cell_type": "code",
      "metadata": {
        "id": "z9DZEEoqgmzK"
      },
      "source": [
        "%tensorflow_version 2.x"
      ],
      "execution_count": null,
      "outputs": []
    },
    {
      "cell_type": "code",
      "metadata": {
        "id": "PD_BcxjShM3g"
      },
      "source": [
        "from __future__ import absolute_import, division, print_function, unicode_literals\n",
        "\n",
        "import tensorflow as tf\n",
        "import pandas as pd"
      ],
      "execution_count": null,
      "outputs": []
    },
    {
      "cell_type": "markdown",
      "metadata": {
        "id": "e0UmOD1giIms"
      },
      "source": [
        "# Get the Data"
      ]
    },
    {
      "cell_type": "code",
      "metadata": {
        "id": "LYQ03MiShY6L"
      },
      "source": [
        "columns = ['SepalLength', 'SepalWidth', 'PetalLength', 'PetalWidth', 'Species']\n",
        "species = ['Setosa', 'Versicolor', 'Virginica']"
      ],
      "execution_count": null,
      "outputs": []
    },
    {
      "cell_type": "code",
      "metadata": {
        "id": "7up4USvCh74U"
      },
      "source": [
        "# This cell get the path of file, next we will be needing to get the data from the file\n",
        "train_path = tf.keras.utils.get_file('iris_training.csv', 'https://storage.googleapis.com/download.tensorflow.org/data/iris_training.csv')\n",
        "test_path = tf.keras.utils.get_file('iris_training.csv', 'https://storage.googleapis.com/download.tensorflow.org/data/iris_test.csv')"
      ],
      "execution_count": null,
      "outputs": []
    },
    {
      "cell_type": "code",
      "metadata": {
        "id": "o1WLDhe4iY0E"
      },
      "source": [
        "train = pd.read_csv(train_path, names=columns, header=0)\n",
        "test = pd.read_csv(test_path, names=columns, header=0)"
      ],
      "execution_count": null,
      "outputs": []
    },
    {
      "cell_type": "code",
      "metadata": {
        "colab": {
          "base_uri": "https://localhost:8080/",
          "height": 206
        },
        "id": "kBgQOh7_i5iw",
        "outputId": "40bf3907-d0bf-4c38-a7a0-7f48ec1c909a"
      },
      "source": [
        "train.head()"
      ],
      "execution_count": null,
      "outputs": [
        {
          "output_type": "execute_result",
          "data": {
            "text/html": [
              "<div>\n",
              "<style scoped>\n",
              "    .dataframe tbody tr th:only-of-type {\n",
              "        vertical-align: middle;\n",
              "    }\n",
              "\n",
              "    .dataframe tbody tr th {\n",
              "        vertical-align: top;\n",
              "    }\n",
              "\n",
              "    .dataframe thead th {\n",
              "        text-align: right;\n",
              "    }\n",
              "</style>\n",
              "<table border=\"1\" class=\"dataframe\">\n",
              "  <thead>\n",
              "    <tr style=\"text-align: right;\">\n",
              "      <th></th>\n",
              "      <th>SepalLength</th>\n",
              "      <th>SepalWidth</th>\n",
              "      <th>PetalLength</th>\n",
              "      <th>PetalWidth</th>\n",
              "      <th>Species</th>\n",
              "    </tr>\n",
              "  </thead>\n",
              "  <tbody>\n",
              "    <tr>\n",
              "      <th>0</th>\n",
              "      <td>6.4</td>\n",
              "      <td>2.8</td>\n",
              "      <td>5.6</td>\n",
              "      <td>2.2</td>\n",
              "      <td>2</td>\n",
              "    </tr>\n",
              "    <tr>\n",
              "      <th>1</th>\n",
              "      <td>5.0</td>\n",
              "      <td>2.3</td>\n",
              "      <td>3.3</td>\n",
              "      <td>1.0</td>\n",
              "      <td>1</td>\n",
              "    </tr>\n",
              "    <tr>\n",
              "      <th>2</th>\n",
              "      <td>4.9</td>\n",
              "      <td>2.5</td>\n",
              "      <td>4.5</td>\n",
              "      <td>1.7</td>\n",
              "      <td>2</td>\n",
              "    </tr>\n",
              "    <tr>\n",
              "      <th>3</th>\n",
              "      <td>4.9</td>\n",
              "      <td>3.1</td>\n",
              "      <td>1.5</td>\n",
              "      <td>0.1</td>\n",
              "      <td>0</td>\n",
              "    </tr>\n",
              "    <tr>\n",
              "      <th>4</th>\n",
              "      <td>5.7</td>\n",
              "      <td>3.8</td>\n",
              "      <td>1.7</td>\n",
              "      <td>0.3</td>\n",
              "      <td>0</td>\n",
              "    </tr>\n",
              "  </tbody>\n",
              "</table>\n",
              "</div>"
            ],
            "text/plain": [
              "   SepalLength  SepalWidth  PetalLength  PetalWidth  Species\n",
              "0          6.4         2.8          5.6         2.2        2\n",
              "1          5.0         2.3          3.3         1.0        1\n",
              "2          4.9         2.5          4.5         1.7        2\n",
              "3          4.9         3.1          1.5         0.1        0\n",
              "4          5.7         3.8          1.7         0.3        0"
            ]
          },
          "metadata": {
            "tags": []
          },
          "execution_count": 12
        }
      ]
    },
    {
      "cell_type": "code",
      "metadata": {
        "id": "aj19sE4SjQsd"
      },
      "source": [
        "y_train = train.pop('Species')\n",
        "y_test = test.pop('Species')"
      ],
      "execution_count": null,
      "outputs": []
    },
    {
      "cell_type": "code",
      "metadata": {
        "colab": {
          "base_uri": "https://localhost:8080/"
        },
        "id": "O_edWlLJjWhW",
        "outputId": "8ef9a569-a806-4916-b218-fa49e3a71098"
      },
      "source": [
        "train.shape, test.shape"
      ],
      "execution_count": null,
      "outputs": [
        {
          "output_type": "execute_result",
          "data": {
            "text/plain": [
              "((120, 4), (120, 4))"
            ]
          },
          "metadata": {
            "tags": []
          },
          "execution_count": 20
        }
      ]
    },
    {
      "cell_type": "code",
      "metadata": {
        "id": "rCRQ7XxHja5o"
      },
      "source": [
        "def input_fn(features, labels, training=True, batch_size=256):\n",
        "  dataset = tf.data.Dataset.from_tensor_slices((dict(features), labels))\n",
        "\n",
        "  if training:\n",
        "    dataset = dataset.shuffle(1000).repeat()\n",
        "  return dataset.batch(batch_size)"
      ],
      "execution_count": null,
      "outputs": []
    },
    {
      "cell_type": "code",
      "metadata": {
        "id": "eyNURZGjj9PA"
      },
      "source": [
        "feature_columns = []\n",
        "for key in train:\n",
        "  feature_columns.append(tf.feature_column.numeric_column(key))"
      ],
      "execution_count": null,
      "outputs": []
    },
    {
      "cell_type": "code",
      "metadata": {
        "colab": {
          "base_uri": "https://localhost:8080/"
        },
        "id": "ykFjggJAkNLg",
        "outputId": "9d9a594e-cec8-4e00-ec76-decb50806d7c"
      },
      "source": [
        "feature_columns"
      ],
      "execution_count": null,
      "outputs": [
        {
          "output_type": "execute_result",
          "data": {
            "text/plain": [
              "[NumericColumn(key='SepalLength', shape=(1,), default_value=None, dtype=tf.float32, normalizer_fn=None),\n",
              " NumericColumn(key='SepalWidth', shape=(1,), default_value=None, dtype=tf.float32, normalizer_fn=None),\n",
              " NumericColumn(key='PetalLength', shape=(1,), default_value=None, dtype=tf.float32, normalizer_fn=None),\n",
              " NumericColumn(key='PetalWidth', shape=(1,), default_value=None, dtype=tf.float32, normalizer_fn=None)]"
            ]
          },
          "metadata": {
            "tags": []
          },
          "execution_count": 26
        }
      ]
    },
    {
      "cell_type": "markdown",
      "metadata": {
        "id": "zBoTFCWQkl_U"
      },
      "source": [
        "# Build the model\n",
        "We are going to use pre-built TF classification model:\n",
        "\n",
        "\n",
        "\n",
        "*   DNNClassifier (Deep Neural Network)\n",
        "*   LinearClassifier\n",
        "\n"
      ]
    },
    {
      "cell_type": "code",
      "metadata": {
        "colab": {
          "base_uri": "https://localhost:8080/"
        },
        "id": "ysOmtNgzkae-",
        "outputId": "08489e75-3f99-48f0-edeb-0d95aa0ed8a3"
      },
      "source": [
        "classifier = tf.estimator.DNNClassifier(\n",
        "    feature_columns=feature_columns,\n",
        "    hidden_units=[30, 10],\n",
        "    n_classes=3\n",
        ")"
      ],
      "execution_count": null,
      "outputs": [
        {
          "output_type": "stream",
          "text": [
            "INFO:tensorflow:Using default config.\n",
            "WARNING:tensorflow:Using temporary folder as model directory: /tmp/tmp4kpkaob9\n",
            "INFO:tensorflow:Using config: {'_model_dir': '/tmp/tmp4kpkaob9', '_tf_random_seed': None, '_save_summary_steps': 100, '_save_checkpoints_steps': None, '_save_checkpoints_secs': 600, '_session_config': allow_soft_placement: true\n",
            "graph_options {\n",
            "  rewrite_options {\n",
            "    meta_optimizer_iterations: ONE\n",
            "  }\n",
            "}\n",
            ", '_keep_checkpoint_max': 5, '_keep_checkpoint_every_n_hours': 10000, '_log_step_count_steps': 100, '_train_distribute': None, '_device_fn': None, '_protocol': None, '_eval_distribute': None, '_experimental_distribute': None, '_experimental_max_worker_delay_secs': None, '_session_creation_timeout_secs': 7200, '_checkpoint_save_graph_def': True, '_service': None, '_cluster_spec': ClusterSpec({}), '_task_type': 'worker', '_task_id': 0, '_global_id_in_cluster': 0, '_master': '', '_evaluation_master': '', '_is_chief': True, '_num_ps_replicas': 0, '_num_worker_replicas': 1}\n"
          ],
          "name": "stdout"
        }
      ]
    },
    {
      "cell_type": "code",
      "metadata": {
        "id": "xpmIXgfqlxzC",
        "colab": {
          "base_uri": "https://localhost:8080/"
        },
        "outputId": "bf3fb3e9-7889-49b0-8fb6-0a55d2d70b3e"
      },
      "source": [
        "classifier.train(\n",
        "    input_fn = lambda: input_fn(train, y_train, training=True),\n",
        "    steps=5000\n",
        ")"
      ],
      "execution_count": 47,
      "outputs": [
        {
          "output_type": "stream",
          "text": [
            "INFO:tensorflow:Calling model_fn.\n",
            "INFO:tensorflow:Done calling model_fn.\n",
            "INFO:tensorflow:Create CheckpointSaverHook.\n",
            "INFO:tensorflow:Graph was finalized.\n",
            "INFO:tensorflow:Restoring parameters from /tmp/tmp4kpkaob9/model.ckpt-5000\n",
            "WARNING:tensorflow:From /usr/local/lib/python3.7/dist-packages/tensorflow/python/training/saver.py:1076: get_checkpoint_mtimes (from tensorflow.python.training.checkpoint_management) is deprecated and will be removed in a future version.\n",
            "Instructions for updating:\n",
            "Use standard file utilities to get mtimes.\n",
            "INFO:tensorflow:Running local_init_op.\n",
            "INFO:tensorflow:Done running local_init_op.\n",
            "INFO:tensorflow:Calling checkpoint listeners before saving checkpoint 5000...\n",
            "INFO:tensorflow:Saving checkpoints for 5000 into /tmp/tmp4kpkaob9/model.ckpt.\n",
            "INFO:tensorflow:Calling checkpoint listeners after saving checkpoint 5000...\n",
            "INFO:tensorflow:loss = 0.30324942, step = 5000\n",
            "INFO:tensorflow:global_step/sec: 471.476\n",
            "INFO:tensorflow:loss = 0.31887805, step = 5100 (0.214 sec)\n",
            "INFO:tensorflow:global_step/sec: 614.346\n",
            "INFO:tensorflow:loss = 0.29081744, step = 5200 (0.165 sec)\n",
            "INFO:tensorflow:global_step/sec: 597.754\n",
            "INFO:tensorflow:loss = 0.297664, step = 5300 (0.167 sec)\n",
            "INFO:tensorflow:global_step/sec: 576.519\n",
            "INFO:tensorflow:loss = 0.29770923, step = 5400 (0.171 sec)\n",
            "INFO:tensorflow:global_step/sec: 554.795\n",
            "INFO:tensorflow:loss = 0.28915554, step = 5500 (0.180 sec)\n",
            "INFO:tensorflow:global_step/sec: 580.515\n",
            "INFO:tensorflow:loss = 0.2925651, step = 5600 (0.172 sec)\n",
            "INFO:tensorflow:global_step/sec: 584.667\n",
            "INFO:tensorflow:loss = 0.28575408, step = 5700 (0.174 sec)\n",
            "INFO:tensorflow:global_step/sec: 573.234\n",
            "INFO:tensorflow:loss = 0.28016612, step = 5800 (0.175 sec)\n",
            "INFO:tensorflow:global_step/sec: 610.211\n",
            "INFO:tensorflow:loss = 0.28508508, step = 5900 (0.164 sec)\n",
            "INFO:tensorflow:global_step/sec: 583.801\n",
            "INFO:tensorflow:loss = 0.29217687, step = 6000 (0.168 sec)\n",
            "INFO:tensorflow:global_step/sec: 590.188\n",
            "INFO:tensorflow:loss = 0.2731412, step = 6100 (0.172 sec)\n",
            "INFO:tensorflow:global_step/sec: 609.364\n",
            "INFO:tensorflow:loss = 0.27305874, step = 6200 (0.161 sec)\n",
            "INFO:tensorflow:global_step/sec: 571.96\n",
            "INFO:tensorflow:loss = 0.27174437, step = 6300 (0.175 sec)\n",
            "INFO:tensorflow:global_step/sec: 594.444\n",
            "INFO:tensorflow:loss = 0.27657664, step = 6400 (0.171 sec)\n",
            "INFO:tensorflow:global_step/sec: 581.886\n",
            "INFO:tensorflow:loss = 0.26600653, step = 6500 (0.173 sec)\n",
            "INFO:tensorflow:global_step/sec: 552.184\n",
            "INFO:tensorflow:loss = 0.2681373, step = 6600 (0.178 sec)\n",
            "INFO:tensorflow:global_step/sec: 609.732\n",
            "INFO:tensorflow:loss = 0.26623368, step = 6700 (0.164 sec)\n",
            "INFO:tensorflow:global_step/sec: 581.382\n",
            "INFO:tensorflow:loss = 0.26149783, step = 6800 (0.172 sec)\n",
            "INFO:tensorflow:global_step/sec: 578.085\n",
            "INFO:tensorflow:loss = 0.24551196, step = 6900 (0.176 sec)\n",
            "INFO:tensorflow:global_step/sec: 588.143\n",
            "INFO:tensorflow:loss = 0.25224125, step = 7000 (0.167 sec)\n",
            "INFO:tensorflow:global_step/sec: 623.756\n",
            "INFO:tensorflow:loss = 0.25210774, step = 7100 (0.160 sec)\n",
            "INFO:tensorflow:global_step/sec: 547.335\n",
            "INFO:tensorflow:loss = 0.25569755, step = 7200 (0.185 sec)\n",
            "INFO:tensorflow:global_step/sec: 610.651\n",
            "INFO:tensorflow:loss = 0.2518129, step = 7300 (0.164 sec)\n",
            "INFO:tensorflow:global_step/sec: 588.761\n",
            "INFO:tensorflow:loss = 0.25193524, step = 7400 (0.167 sec)\n",
            "INFO:tensorflow:global_step/sec: 596.836\n",
            "INFO:tensorflow:loss = 0.25016406, step = 7500 (0.171 sec)\n",
            "INFO:tensorflow:global_step/sec: 598.777\n",
            "INFO:tensorflow:loss = 0.2438725, step = 7600 (0.166 sec)\n",
            "INFO:tensorflow:global_step/sec: 583.694\n",
            "INFO:tensorflow:loss = 0.23942077, step = 7700 (0.172 sec)\n",
            "INFO:tensorflow:global_step/sec: 562.171\n",
            "INFO:tensorflow:loss = 0.23877022, step = 7800 (0.177 sec)\n",
            "INFO:tensorflow:global_step/sec: 601.159\n",
            "INFO:tensorflow:loss = 0.23878467, step = 7900 (0.168 sec)\n",
            "INFO:tensorflow:global_step/sec: 588.312\n",
            "INFO:tensorflow:loss = 0.23589844, step = 8000 (0.168 sec)\n",
            "INFO:tensorflow:global_step/sec: 566.897\n",
            "INFO:tensorflow:loss = 0.22941095, step = 8100 (0.175 sec)\n",
            "INFO:tensorflow:global_step/sec: 610.497\n",
            "INFO:tensorflow:loss = 0.23057315, step = 8200 (0.167 sec)\n",
            "INFO:tensorflow:global_step/sec: 586.6\n",
            "INFO:tensorflow:loss = 0.23154476, step = 8300 (0.166 sec)\n",
            "INFO:tensorflow:global_step/sec: 581.375\n",
            "INFO:tensorflow:loss = 0.22604972, step = 8400 (0.172 sec)\n",
            "INFO:tensorflow:global_step/sec: 615.13\n",
            "INFO:tensorflow:loss = 0.22368954, step = 8500 (0.166 sec)\n",
            "INFO:tensorflow:global_step/sec: 580.895\n",
            "INFO:tensorflow:loss = 0.22405165, step = 8600 (0.171 sec)\n",
            "INFO:tensorflow:global_step/sec: 606.875\n",
            "INFO:tensorflow:loss = 0.22653317, step = 8700 (0.166 sec)\n",
            "INFO:tensorflow:global_step/sec: 601.77\n",
            "INFO:tensorflow:loss = 0.22075745, step = 8800 (0.166 sec)\n",
            "WARNING:tensorflow:It seems that global step (tf.train.get_global_step) has not been increased. Current value (could be stable): 8802 vs previous value: 8802. You could increase the global step by passing tf.train.get_global_step() to Optimizer.apply_gradients or Optimizer.minimize.\n",
            "INFO:tensorflow:global_step/sec: 573.091\n",
            "INFO:tensorflow:loss = 0.22359309, step = 8900 (0.174 sec)\n",
            "INFO:tensorflow:global_step/sec: 573.967\n",
            "INFO:tensorflow:loss = 0.21779272, step = 9000 (0.175 sec)\n",
            "INFO:tensorflow:global_step/sec: 594.653\n",
            "INFO:tensorflow:loss = 0.22368883, step = 9100 (0.167 sec)\n",
            "INFO:tensorflow:global_step/sec: 588.3\n",
            "INFO:tensorflow:loss = 0.21600387, step = 9200 (0.170 sec)\n",
            "INFO:tensorflow:global_step/sec: 611.504\n",
            "INFO:tensorflow:loss = 0.21357822, step = 9300 (0.161 sec)\n",
            "INFO:tensorflow:global_step/sec: 626.836\n",
            "INFO:tensorflow:loss = 0.2069084, step = 9400 (0.163 sec)\n",
            "INFO:tensorflow:global_step/sec: 598.436\n",
            "INFO:tensorflow:loss = 0.2123586, step = 9500 (0.166 sec)\n",
            "INFO:tensorflow:global_step/sec: 589.244\n",
            "INFO:tensorflow:loss = 0.20228937, step = 9600 (0.171 sec)\n",
            "INFO:tensorflow:global_step/sec: 586.158\n",
            "INFO:tensorflow:loss = 0.20092453, step = 9700 (0.171 sec)\n",
            "INFO:tensorflow:global_step/sec: 589.649\n",
            "INFO:tensorflow:loss = 0.2028393, step = 9800 (0.168 sec)\n",
            "INFO:tensorflow:global_step/sec: 570.584\n",
            "INFO:tensorflow:loss = 0.20069301, step = 9900 (0.173 sec)\n",
            "INFO:tensorflow:Calling checkpoint listeners before saving checkpoint 10000...\n",
            "INFO:tensorflow:Saving checkpoints for 10000 into /tmp/tmp4kpkaob9/model.ckpt.\n",
            "INFO:tensorflow:Calling checkpoint listeners after saving checkpoint 10000...\n",
            "INFO:tensorflow:Loss for final step: 0.19903994.\n"
          ],
          "name": "stdout"
        },
        {
          "output_type": "execute_result",
          "data": {
            "text/plain": [
              "<tensorflow_estimator.python.estimator.canned.dnn.DNNClassifierV2 at 0x7f8e337e5890>"
            ]
          },
          "metadata": {
            "tags": []
          },
          "execution_count": 47
        }
      ]
    },
    {
      "cell_type": "code",
      "metadata": {
        "colab": {
          "base_uri": "https://localhost:8080/"
        },
        "id": "MUTRKvafo4Hx",
        "outputId": "dcdfac46-bee2-48ae-894c-2ca380be3d73"
      },
      "source": [
        "results = classifier.evaluate(\n",
        "    input_fn = lambda: input_fn(test, y_test, training=False)\n",
        ")"
      ],
      "execution_count": 48,
      "outputs": [
        {
          "output_type": "stream",
          "text": [
            "INFO:tensorflow:Calling model_fn.\n",
            "INFO:tensorflow:Done calling model_fn.\n",
            "INFO:tensorflow:Starting evaluation at 2021-05-04T09:17:18Z\n",
            "INFO:tensorflow:Graph was finalized.\n",
            "INFO:tensorflow:Restoring parameters from /tmp/tmp4kpkaob9/model.ckpt-10000\n",
            "INFO:tensorflow:Running local_init_op.\n",
            "INFO:tensorflow:Done running local_init_op.\n",
            "INFO:tensorflow:Inference Time : 0.20534s\n",
            "INFO:tensorflow:Finished evaluation at 2021-05-04-09:17:18\n",
            "INFO:tensorflow:Saving dict for global step 10000: accuracy = 0.975, average_loss = 0.20238523, global_step = 10000, loss = 0.20238523\n",
            "INFO:tensorflow:Saving 'checkpoint_path' summary for global step 10000: /tmp/tmp4kpkaob9/model.ckpt-10000\n"
          ],
          "name": "stdout"
        }
      ]
    },
    {
      "cell_type": "code",
      "metadata": {
        "colab": {
          "base_uri": "https://localhost:8080/"
        },
        "id": "sQFcNOgaoupA",
        "outputId": "0aec7012-ff4c-431e-d8ad-d7936c529bd7"
      },
      "source": [
        "print('Test Set Accuracy: ', {results['accuracy']})"
      ],
      "execution_count": 49,
      "outputs": [
        {
          "output_type": "stream",
          "text": [
            "Test Set Accuracy:  {0.975}\n"
          ],
          "name": "stdout"
        }
      ]
    },
    {
      "cell_type": "code",
      "metadata": {
        "colab": {
          "base_uri": "https://localhost:8080/"
        },
        "id": "PYsXFV--qGlR",
        "outputId": "0cdc979b-6bb0-40dd-d1f4-b9d5f648acd2"
      },
      "source": [
        "def input_fn(features, batch_size=256):\n",
        "  return tf.data.Dataset.from_tensor_slices(dict(features)).batch(batch_size)\n",
        "\n",
        "\n",
        "features = ['SepalLength', 'SepalWidth', 'PetalLength', 'PetalWidth']\n",
        "predict = {}\n",
        "\n",
        "print('Type Numeric Values')\n",
        "for feature in features:\n",
        "  valid = True\n",
        "  while valid:\n",
        "    val = input(feature + ': ')\n",
        "    if not val.isdigit():\n",
        "      valid = False\n",
        "  predict[feature] = [float(val)]\n",
        "\n",
        "\n",
        "predictions = classifier.predict(\n",
        "    input_fn = lambda: input_fn(predict)\n",
        "    )"
      ],
      "execution_count": 89,
      "outputs": [
        {
          "output_type": "stream",
          "text": [
            "Type Numeric Values\n",
            "SepalLength: 0.1\n",
            "SepalWidth: 0.3\n",
            "PetalLength: 0.5\n",
            "PetalWidth: 0.4\n"
          ],
          "name": "stdout"
        }
      ]
    },
    {
      "cell_type": "code",
      "metadata": {
        "colab": {
          "base_uri": "https://localhost:8080/"
        },
        "id": "HR5rt5pssOBq",
        "outputId": "4bab6cae-e880-4072-a25a-d2fca1672bfb"
      },
      "source": [
        "predictions"
      ],
      "execution_count": 82,
      "outputs": [
        {
          "output_type": "execute_result",
          "data": {
            "text/plain": [
              "<generator object Estimator.predict at 0x7f8e2bc41b50>"
            ]
          },
          "metadata": {
            "tags": []
          },
          "execution_count": 82
        }
      ]
    },
    {
      "cell_type": "code",
      "metadata": {
        "id": "5pvTM5UhshsD"
      },
      "source": [
        "for pred_dict in predictions:\n",
        "  print(pred_dict)\n",
        "  class_id = pred_dict['class_ids'][0]\n",
        "  probability = pred_dict['probabilities'][class_id]"
      ],
      "execution_count": 94,
      "outputs": []
    },
    {
      "cell_type": "code",
      "metadata": {
        "colab": {
          "base_uri": "https://localhost:8080/"
        },
        "id": "tBVdVKfAvHCI",
        "outputId": "193c4e86-bedf-4f24-98f5-9fd1ecf81d4a"
      },
      "source": [
        "print(f'Flower is a {species[class_id]} with a probability of {round(probability*100, 2)}%')"
      ],
      "execution_count": 93,
      "outputs": [
        {
          "output_type": "stream",
          "text": [
            "Flower is a Versicolor with a probability of 39.76%\n"
          ],
          "name": "stdout"
        }
      ]
    }
  ]
}